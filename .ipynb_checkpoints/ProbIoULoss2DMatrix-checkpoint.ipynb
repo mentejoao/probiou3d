{
 "cells": [
  {
   "cell_type": "code",
   "execution_count": 5,
   "id": "0d4193e0-92ea-4d27-b745-fedc259a1c9a",
   "metadata": {},
   "outputs": [
    {
     "name": "stdout",
     "output_type": "stream",
     "text": [
      "WARNING:tensorflow:From C:\\Users\\joaodev\\AppData\\Roaming\\Python\\Python39\\site-packages\\keras\\src\\losses.py:2976: The name tf.losses.sparse_softmax_cross_entropy is deprecated. Please use tf.compat.v1.losses.sparse_softmax_cross_entropy instead.\n",
      "\n"
     ]
    }
   ],
   "source": [
    "import tensorflow as tf\n",
    "import numpy as np"
   ]
  },
  {
   "cell_type": "code",
   "execution_count": 11,
   "id": "984e2aef-9642-4d6c-9a31-df3ca24c60da",
   "metadata": {},
   "outputs": [],
   "source": [
    "def probiou_loss(boxes_pred, target_boxes_, EPS = 1e-3, mode='l2'):\n",
    "\n",
    "    \"\"\"\n",
    "        boxes_pred    -> a matrix [N,5](x,y,w,h,angle - in radians) containing ours predicted box ;in case of HBB angle == 0\n",
    "        target_boxes_  -> a matrix [N,5](x,y,w,h,angle - in radians) containing ours target    box ;in case of HBB angle == 0\n",
    "        EPS     -> threshold to avoid infinite values\n",
    "        mode       -> ('l1' in [0,1] or 'l2' in [0,inf]) metrics according our paper\n",
    "\n",
    "    \"\"\"\n",
    "\n",
    "    x1, y1, w1, h1, theta1 = tf.unstack(boxes_pred, axis=1)\n",
    "    x2, y2, w2, h2, theta2 = tf.unstack(target_boxes_, axis=1)\n",
    "    x1 = tf.reshape(x1, [-1, 1])\n",
    "    y1 = tf.reshape(y1, [-1, 1])\n",
    "    h1 = tf.reshape(h1, [-1, 1])\n",
    "    w1 = tf.reshape(w1, [-1, 1])\n",
    "    theta1 = tf.reshape(theta1, [-1, 1])\n",
    "    x2 = tf.reshape(x2, [-1, 1])\n",
    "    y2 = tf.reshape(y2, [-1, 1])\n",
    "    h2 = tf.reshape(h2, [-1, 1])\n",
    "    w2 = tf.reshape(w2, [-1, 1])\n",
    "    theta2 = tf.reshape(theta2, [-1, 1])\n",
    "\n",
    "    # gbb form\n",
    "    aa = w1**2/12; bb = h1**2/12; angles = theta1\n",
    "    # rotated form\n",
    "    a1 = aa*tf.math.pow(tf.math.cos(angles), 2.) + bb*tf.math.pow(tf.math.sin(angles), 2.)\n",
    "    b1 = aa*tf.math.pow(tf.math.sin(angles), 2.) + bb*tf.math.pow(tf.math.cos(angles), 2.)\n",
    "    c1 = 0.5*(aa - bb)*tf.math.sin(2.*angles)\n",
    "\n",
    "    # gbb form\n",
    "    aa = w2**2/12; bb = h2**2/12; angles = theta2\n",
    "    # rotated form\n",
    "    a2 = aa*tf.math.pow(tf.math.cos(angles), 2.) + bb*tf.math.pow(tf.math.sin(angles), 2.)\n",
    "    b2 = aa*tf.math.pow(tf.math.sin(angles), 2.) + bb*tf.math.pow(tf.math.cos(angles), 2.)\n",
    "    c2 = 0.5*(aa - bb)*tf.math.sin(2.*angles)\n",
    "\n",
    "    # Formulação matricial\n",
    "    sigma1 = tf.constant([[a1, c1],\n",
    "                          [c1, b1]], dtype=tf.float32)\n",
    "\n",
    "    sigma2 = tf.constant([[a2, c2],\n",
    "                          [c2, b2]], dtype=tf.float32)\n",
    "\n",
    "    mu1 = tf.constant([[x1],\n",
    "                       [y1]], dtype=tf.float32)\n",
    "\n",
    "    mu2 = tf.constant([[x2],\n",
    "                       [y2]], dtype=tf.float32)\n",
    "    \n",
    "    mu = tf.scalar_mul(tf.add(mu1, mu2), 0.5) # Σ = (Σ1 + Σ2)*1/2 \n",
    "    \n",
    "    bd = tf.add(tf.scalar_mul(tf.matmul(tf.matmul(tf.transpose(tf.subtract(mu1-mu2)), tf.linalg.inv(mu)),tf.subtract(mu1-mu2)), 1/8),\n",
    "                tf.scalar_mul(tf.math.log(tf.linalg.det(mu)/(tf.sqrt(tf.linalg.det(mu1)*tf.linalg.det(mu2)))), 1/2)) #eq7"
   ]
  },
  {
   "cell_type": "code",
   "execution_count": 7,
   "id": "04622592",
   "metadata": {
    "scrolled": true
   },
   "outputs": [
    {
     "name": "stdout",
     "output_type": "stream",
     "text": [
      "tf.Tensor(\n",
      "[[-2.0000002   1.0000001 ]\n",
      " [ 1.5000001  -0.50000006]], shape=(2, 2), dtype=float32)\n"
     ]
    }
   ],
   "source": [
    "matriz = tf.constant([[1.0, 2.0], [3.0, 4.0]])\n",
    "\n",
    "# Calculando a inversa\n",
    "inversa = tf.linalg.inv(matriz)\n",
    "print(inversa)"
   ]
  },
  {
   "cell_type": "code",
   "execution_count": 9,
   "id": "08f27173",
   "metadata": {},
   "outputs": [
    {
     "name": "stdout",
     "output_type": "stream",
     "text": [
      "tf.Tensor(\n",
      "[[2. 4.]\n",
      " [6. 8.]], shape=(2, 2), dtype=float32)\n"
     ]
    }
   ],
   "source": [
    "matriz = tf.constant([[1.0, 2.0], [3.0, 4.0]])\n",
    "\n",
    "# Definindo o escalar\n",
    "escalar = 2.0\n",
    "\n",
    "# Multiplicando a matriz pelo escalar\n",
    "matriz_resultante = tf.scalar_mul(escalar, matriz)\n",
    "print(matriz_resultante)"
   ]
  },
  {
   "cell_type": "code",
   "execution_count": null,
   "id": "ebe86606",
   "metadata": {},
   "outputs": [],
   "source": []
  }
 ],
 "metadata": {
  "kernelspec": {
   "display_name": "Python 3 (ipykernel)",
   "language": "python",
   "name": "python3"
  },
  "language_info": {
   "codemirror_mode": {
    "name": "ipython",
    "version": 3
   },
   "file_extension": ".py",
   "mimetype": "text/x-python",
   "name": "python",
   "nbconvert_exporter": "python",
   "pygments_lexer": "ipython3",
   "version": "3.9.18"
  }
 },
 "nbformat": 4,
 "nbformat_minor": 5
}
