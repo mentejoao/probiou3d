{
 "cells": [
  {
   "cell_type": "code",
   "execution_count": 1,
   "id": "0d4193e0-92ea-4d27-b745-fedc259a1c9a",
   "metadata": {
    "scrolled": true
   },
   "outputs": [
    {
     "name": "stdout",
     "output_type": "stream",
     "text": [
      "WARNING:tensorflow:From C:\\Users\\joaodev\\AppData\\Roaming\\Python\\Python39\\site-packages\\keras\\src\\losses.py:2976: The name tf.losses.sparse_softmax_cross_entropy is deprecated. Please use tf.compat.v1.losses.sparse_softmax_cross_entropy instead.\n",
      "\n"
     ]
    }
   ],
   "source": [
    "import tensorflow as tf\n",
    "import numpy as np"
   ]
  },
  {
   "cell_type": "code",
   "execution_count": 2,
   "id": "ef433aea",
   "metadata": {},
   "outputs": [],
   "source": [
    "def generate_test_input(N):\n",
    "    # Gerar boxes preditas e alvo aleatórias\n",
    "    boxes_pred = np.random.rand(N, 5)  # N amostras de boxes preditas\n",
    "    target_boxes = np.random.rand(N, 5)  # N amostras de boxes alvo\n",
    "\n",
    "    # Adicionar valores específicos para o ângulo em radianos\n",
    "    angle_values = np.random.uniform(low=0, high=2*np.pi, size=(N, 1))  # N valores de ângulo em radianos\n",
    "    boxes_pred[:, 4] = angle_values.flatten()  # Adicionar ângulos às boxes preditas\n",
    "    target_boxes[:, 4] = angle_values.flatten()  # Adicionar ângulos às boxes alvo\n",
    "\n",
    "    return boxes_pred, target_boxes"
   ]
  },
  {
   "cell_type": "code",
   "execution_count": 30,
   "id": "c1555ea2",
   "metadata": {},
   "outputs": [],
   "source": [
    "boxes_predd, target_boxess = generate_test_input(5)"
   ]
  },
  {
   "cell_type": "code",
   "execution_count": 3,
   "id": "bf71d925",
   "metadata": {},
   "outputs": [],
   "source": [
    "def probiou_loss_og(boxes_pred, target_boxes_, EPS = 1e-3, mode='l2'):\n",
    "\n",
    "    \"\"\"\n",
    "        boxes_pred    -> a matrix [N,5](x,y,w,h,angle - in radians) containing ours predicted box ;in case of HBB angle == 0\n",
    "        target_boxes_  -> a matrix [N,5](x,y,w,h,angle - in radians) containing ours target    box ;in case of HBB angle == 0\n",
    "        EPS     -> threshold to avoid infinite values\n",
    "        mode       -> ('l1' in [0,1] or 'l2' in [0,inf]) metrics according our paper\n",
    "\n",
    "    \"\"\"\n",
    "\n",
    "    x1, y1, w1, h1, theta1 = tf.unstack(boxes_pred, axis=1)\n",
    "    x2, y2, w2, h2, theta2 = tf.unstack(target_boxes_, axis=1)\n",
    "    x1 = tf.reshape(x1, [-1, 1])\n",
    "    y1 = tf.reshape(y1, [-1, 1])\n",
    "    h1 = tf.reshape(h1, [-1, 1])\n",
    "    w1 = tf.reshape(w1, [-1, 1])\n",
    "    theta1 = tf.reshape(theta1, [-1, 1])\n",
    "    x2 = tf.reshape(x2, [-1, 1])\n",
    "    y2 = tf.reshape(y2, [-1, 1])\n",
    "    h2 = tf.reshape(h2, [-1, 1])\n",
    "    w2 = tf.reshape(w2, [-1, 1])\n",
    "    theta2 = tf.reshape(theta2, [-1, 1])\n",
    "\n",
    "    # gbb form\n",
    "    aa = w1**2/12; bb = h1**2/12; angles = theta1\n",
    "    # rotated form\n",
    "    a1 = aa*tf.math.pow(tf.math.cos(angles), 2.) + bb*tf.math.pow(tf.math.sin(angles), 2.)\n",
    "    b1 = aa*tf.math.pow(tf.math.sin(angles), 2.) + bb*tf.math.pow(tf.math.cos(angles), 2.)\n",
    "    c1 = 0.5*(aa - bb)*tf.math.sin(2.*angles)\n",
    "\n",
    "    # gbb form\n",
    "    aa = w2**2/12; bb = h2**2/12; angles = theta2\n",
    "    # rotated form\n",
    "    a2 = aa*tf.math.pow(tf.math.cos(angles), 2.) + bb*tf.math.pow(tf.math.sin(angles), 2.)\n",
    "    b2 = aa*tf.math.pow(tf.math.sin(angles), 2.) + bb*tf.math.pow(tf.math.cos(angles), 2.)\n",
    "    c2 = 0.5*(aa - bb)*tf.math.sin(2.*angles)\n",
    "\n",
    "    B1 = 1/4.*( (a1+a2)*(y1-y2)**2. + (b1+b2)*(x1-x2)**2. ) + 1/2.*( (c1+c2)*(x2-x1)*(y1-y2) )\n",
    "    B1 = B1 / ( (a1+a2)*(b1+b2) - (c1+c2)**2. + EPS )\n",
    "\n",
    "    print(B1)\n",
    "\n",
    "    sqrt = (a1*b1-c1**2)*(a2*b2-c2**2)\n",
    "    sqrt = tf.clip_by_value(sqrt, EPS, tf.reduce_max(sqrt)+EPS)\n",
    "    B2 = ( (a1+a2)*(b1+b2) - (c1+c2)**2. )/( 4.*tf.math.sqrt(sqrt) + EPS )\n",
    "    B2 = tf.clip_by_value(B2, EPS, tf.reduce_max(B2)+EPS)\n",
    "    B2 = 1/2.*tf.math.log(B2)\n",
    "\n",
    "    Bd = B1 + B2\n",
    "    Bd = tf.clip_by_value(Bd, EPS, 100.)\n",
    "\n",
    "    l1 = tf.math.sqrt(1 - tf.math.exp(-Bd) + EPS)\n",
    "\n",
    "    if mode=='l2':\n",
    "        l2 = tf.math.pow(l1, 2.)\n",
    "        probiou = - tf.math.log(1. - l2 + EPS)\n",
    "    else:\n",
    "        probiou = l1\n",
    "\n",
    "    return probiou"
   ]
  },
  {
   "cell_type": "code",
   "execution_count": 117,
   "id": "984e2aef-9642-4d6c-9a31-df3ca24c60da",
   "metadata": {},
   "outputs": [],
   "source": [
    "def probiou_loss(boxes_pred, target_boxes_, EPS = 1e-3, mode='l2'):\n",
    "\n",
    "    \"\"\"\n",
    "        boxes_pred    -> a matrix [N,5](x,y,w,h,angle - in radians) containing ours predicted box ;in case of HBB angle == 0\n",
    "        target_boxes_  -> a matrix [N,5](x,y,w,h,angle - in radians) containing ours target    box ;in case of HBB angle == 0\n",
    "        EPS     -> threshold to avoid infinite values\n",
    "        mode       -> ('l1' in [0,1] or 'l2' in [0,inf]) metrics according our paper\n",
    "\n",
    "    \"\"\"\n",
    "\n",
    "    x1, y1, w1, h1, theta1 = tf.unstack(boxes_pred, axis=1)\n",
    "    x2, y2, w2, h2, theta2 = tf.unstack(target_boxes_, axis=1)\n",
    "    x1 = (tf.reshape(x1, [-1])).numpy()\n",
    "    y1 = (tf.reshape(y1, [-1])).numpy()\n",
    "    h1 = (tf.reshape(h1, [-1])).numpy()\n",
    "    w1 = (tf.reshape(w1, [-1])).numpy()\n",
    "    theta1 = (tf.reshape(theta1, [-1])).numpy()\n",
    "    x2 = (tf.reshape(x1, [-1])).numpy()\n",
    "    y2 = (tf.reshape(y2, [-1])).numpy()\n",
    "    h2 = (tf.reshape(h2, [-1])).numpy()\n",
    "    w2 = (tf.reshape(w2, [-1])).numpy()\n",
    "    theta2 = (tf.reshape(theta2, [-1])).numpy()\n",
    "\n",
    "    # gbb form\n",
    "    # print(\"O valor de w1 eh: {}\".format(w1))\n",
    "    # print(\"O valor de h1 eh: {}\".format(h1))\n",
    "    # print(\"O valor de theta1 eh: {}\".format(theta1))\n",
    "    aa = w1**2/12; bb = h1**2/12; angles = theta1\n",
    "    # rotated form\n",
    "    a1 = aa*tf.math.pow(tf.math.cos(angles), 2.) + bb*tf.math.pow(tf.math.sin(angles), 2.)\n",
    "    b1 = aa*tf.math.pow(tf.math.sin(angles), 2.) + bb*tf.math.pow(tf.math.cos(angles), 2.)\n",
    "    c1 = 0.5*(aa - bb)*tf.math.sin(2.*angles)\n",
    "\n",
    "    # gbb form\n",
    "    aa = w2**2/12; bb = h2**2/12; angles = theta2\n",
    "    # rotated form\n",
    "    a2 = aa*tf.math.pow(tf.math.cos(angles), 2.) + bb*tf.math.pow(tf.math.sin(angles), 2.)\n",
    "    b2 = aa*tf.math.pow(tf.math.sin(angles), 2.) + bb*tf.math.pow(tf.math.cos(angles), 2.)\n",
    "    c2 = 0.5*(aa - bb)*tf.math.sin(2.*angles)\n",
    "    \n",
    "    # print(tf.rank(a1))\n",
    "    print(\"a1:{}\".format(a1))\n",
    "    print(\"c1:{}\".format(c1))\n",
    "    print(\"b1:{}\".format(b1))\n",
    "\n",
    "    # Formulação matricial\n",
    "    sigma = np.array([[a1, c1],\n",
    "                  [c1, b1]]).T.reshape(boxes_pred.shape[0], 2, 2)\n",
    "\n",
    "    sigma2 = np.array([[a2, c2],\n",
    "                  [c2, b2]]).T.reshape(boxes_pred.shape[0], 2, 2)\n",
    "\n",
    "    mu1 = np.array([[x1], [y1]]).T.reshape(boxes_pred.shape[0], 2, 1)\n",
    "\n",
    "    mu2 = np.array([[x2], [y2]]).T.reshape(boxes_pred.shape[0], 2, 1)\n",
    "    \n",
    "    mu = np.dot(mu1 + mu2, 0.5)\n",
    "\n",
    "    b1 = np.dot(1/8, (mu1 - mu2).transpose(0, 2, 1)) @ (np.linalg.inv(sigma) @ (mu1-mu2))\n",
    "    \n",
    "    b2 = np.dot(1/2, np.log(np.linalg.det(mu)*(1/np.sqrt(np.linalg.det(mu1)*np.linalg.det(mu2)))))\n",
    "    \n",
    "    Bd = b1+b2\n",
    "    \n",
    "    Bd = tf.clip_by_value(Bd, EPS, 100.)\n",
    "    \n",
    "    # print(Bd)\n",
    "\n",
    "    l1 = tf.math.sqrt(1 - tf.math.exp(-Bd) + EPS)\n",
    "    \n",
    "    if mode=='l2':\n",
    "        l2 = tf.math.pow(l1, 2.)\n",
    "        probiou = - tf.math.log(1. - l2 + EPS)\n",
    "    else:\n",
    "        probiou = l1\n",
    "        \n",
    "    return probiou"
   ]
  },
  {
   "cell_type": "code",
   "execution_count": 118,
   "id": "41f462fb",
   "metadata": {
    "scrolled": false
   },
   "outputs": [
    {
     "name": "stdout",
     "output_type": "stream",
     "text": [
      "a1:[0.04836847 0.01229022 0.01913354 0.04553325 0.03547295]\n",
      "c1:[-0.00055333 -0.0094554  -0.00083679  0.02046236 -0.02467745]\n",
      "b1:[0.039697   0.00747393 0.07716147 0.00930339 0.01910343]\n",
      "matriz sigma:[[[ 0.04836847 -0.00055333]\n",
      "  [-0.00055333  0.039697  ]]\n",
      "\n",
      " [[ 0.01229022 -0.0094554 ]\n",
      "  [-0.0094554   0.00747393]]\n",
      "\n",
      " [[ 0.01913354 -0.00083679]\n",
      "  [-0.00083679  0.07716147]]\n",
      "\n",
      " [[ 0.04553325  0.02046236]\n",
      "  [ 0.02046236  0.00930339]]\n",
      "\n",
      " [[ 0.03547295 -0.02467745]\n",
      "  [-0.02467745  0.01910343]]]\n",
      "sigma shape:(5, 2, 2)\n",
      "shape de digs:(5, 2, 2)\n",
      "shape de b1:(5, 1, 1)\n"
     ]
    }
   ],
   "source": [
    "digs1 = probiou_loss(boxes_predd, target_boxess)"
   ]
  },
  {
   "cell_type": "code",
   "execution_count": null,
   "id": "20dd124d",
   "metadata": {},
   "outputs": [],
   "source": [
    "digs2 = probiou_loss_og(boxes_predd, target_boxess)\n",
    "print(digs2)"
   ]
  },
  {
   "cell_type": "code",
   "execution_count": null,
   "id": "ebe86606",
   "metadata": {
    "scrolled": true
   },
   "outputs": [],
   "source": [
    "w = 0.7301464\n",
    "h1 = 0.5703776\n",
    "theta1 = 4.0121395\n",
    "\n",
    "aa = w**2/12; bb = h1**2/12; angles = theta1\n",
    "    # rotated form\n",
    "a1 = aa*tf.math.pow(tf.math.cos(angles), 2.) + bb*tf.math.pow(tf.math.sin(angles), 2.)\n",
    "b1 = aa*tf.math.pow(tf.math.sin(angles), 2.) + bb*tf.math.pow(tf.math.cos(angles), 2.)\n",
    "c1 = 0.5*(aa - bb)*tf.math.sin(2.*angles)\n",
    "\n",
    "# Criando a matriz sigma\n",
    "sigma = tf.stack([[a1, c1],\n",
    "                  [c1, b1]])"
   ]
  },
  {
   "cell_type": "code",
   "execution_count": 110,
   "id": "7ce32fc9",
   "metadata": {},
   "outputs": [
    {
     "name": "stdout",
     "output_type": "stream",
     "text": [
      "[[[-1.59266573  3.35728916]\n",
      "  [ 2.34020164 -2.38340448]]\n",
      "\n",
      " [[-0.61285904  1.43003016]\n",
      "  [ 1.32312432 -0.71394275]]\n",
      "\n",
      " [[ 1.66518054 -0.63509995]\n",
      "  [-0.53588881  2.14118846]]\n",
      "\n",
      " [[ 3.18718392 -5.18294052]\n",
      "  [-0.65748072  2.94708107]]\n",
      "\n",
      " [[ 1.21528215 -1.22720523]\n",
      "  [-0.39396082  2.60091481]]]\n",
      "(5, 2, 2)\n"
     ]
    }
   ],
   "source": [
    "# Suponha que você tenha uma matriz sigma de dimensões (5, 2, 2)\n",
    "sigma = np.random.rand(5, 2, 2)\n",
    "\n",
    "# Calcular a inversa de cada matriz 2x2\n",
    "inversas = np.linalg.inv(sigma)\n",
    "\n",
    "print(inversas)\n",
    "print(inversas.shape)"
   ]
  },
  {
   "cell_type": "code",
   "execution_count": null,
   "id": "59c2e907",
   "metadata": {},
   "outputs": [],
   "source": []
  }
 ],
 "metadata": {
  "kernelspec": {
   "display_name": "Python 3 (ipykernel)",
   "language": "python",
   "name": "python3"
  },
  "language_info": {
   "codemirror_mode": {
    "name": "ipython",
    "version": 3
   },
   "file_extension": ".py",
   "mimetype": "text/x-python",
   "name": "python",
   "nbconvert_exporter": "python",
   "pygments_lexer": "ipython3",
   "version": "3.9.18"
  }
 },
 "nbformat": 4,
 "nbformat_minor": 5
}
