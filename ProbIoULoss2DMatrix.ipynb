{
 "cells": [
  {
   "cell_type": "code",
   "execution_count": 20,
   "id": "0d4193e0-92ea-4d27-b745-fedc259a1c9a",
   "metadata": {
    "scrolled": true
   },
   "outputs": [],
   "source": [
    "import tensorflow as tf\n",
    "import numpy as np"
   ]
  },
  {
   "cell_type": "code",
   "execution_count": 21,
   "id": "90c1912e",
   "metadata": {},
   "outputs": [],
   "source": [
    "tf.config.experimental_run_functions_eagerly(True)"
   ]
  },
  {
   "cell_type": "code",
   "execution_count": 22,
   "id": "ef433aea",
   "metadata": {},
   "outputs": [],
   "source": [
    "def generate_test_input(N):\n",
    "    # Gerar boxes preditas e alvo aleatórias\n",
    "    boxes_pred = np.random.rand(N, 5)*10  # N amostras de boxes preditas\n",
    "    target_boxes = np.random.rand(N, 5)*10  # N amostras de boxes alvo\n",
    "\n",
    "    # Adicionar valores específicos para o ângulo em radianos\n",
    "    angle_values = np.random.uniform(low=0, high=2*np.pi, size=(N, 1))  # N valores de ângulo em radianos\n",
    "    boxes_pred[:, 4] = angle_values.flatten()  # Adicionar ângulos às boxes preditas\n",
    "    target_boxes[:, 4] = angle_values.flatten()  # Adicionar ângulos às boxes alvo\n",
    "    \n",
    "    return boxes_pred, target_boxes"
   ]
  },
  {
   "cell_type": "code",
   "execution_count": 23,
   "id": "c1555ea2",
   "metadata": {
    "scrolled": true
   },
   "outputs": [],
   "source": [
    "boxes_predd, target_boxess = generate_test_input(1)"
   ]
  },
  {
   "cell_type": "code",
   "execution_count": 24,
   "id": "bf71d925",
   "metadata": {},
   "outputs": [],
   "source": [
    "def probiou_loss_og(boxes_pred, target_boxes_, EPS = 1e-3, mode='l2'):\n",
    "\n",
    "    \"\"\"\n",
    "        boxes_pred    -> a matrix [N,5](x,y,w,h,angle - in radians) containing ours predicted box ;in case of HBB angle == 0\n",
    "        target_boxes_  -> a matrix [N,5](x,y,w,h,angle - in radians) containing ours target    box ;in case of HBB angle == 0\n",
    "        EPS     -> threshold to avoid infinite values\n",
    "        mode       -> ('l1' in [0,1] or 'l2' in [0,inf]) metrics according our paper\n",
    "\n",
    "    \"\"\"\n",
    "\n",
    "    x1, y1, w1, h1, theta1 = tf.unstack(boxes_pred, axis=1)\n",
    "    x2, y2, w2, h2, theta2 = tf.unstack(target_boxes_, axis=1)\n",
    "    x1 = tf.reshape(x1, [-1, 1])\n",
    "    y1 = tf.reshape(y1, [-1, 1])\n",
    "    h1 = tf.reshape(h1, [-1, 1])\n",
    "    w1 = tf.reshape(w1, [-1, 1])\n",
    "    theta1 = tf.reshape(theta1, [-1, 1])\n",
    "    x2 = tf.reshape(x2, [-1, 1])\n",
    "    y2 = tf.reshape(y2, [-1, 1])\n",
    "    h2 = tf.reshape(h2, [-1, 1])\n",
    "    w2 = tf.reshape(w2, [-1, 1])\n",
    "    theta2 = tf.reshape(theta2, [-1, 1])\n",
    "\n",
    "    # gbb form\n",
    "    aa = w1**2/12; bb = h1**2/12; angles = theta1\n",
    "    # rotated form\n",
    "    a1 = aa*tf.math.pow(tf.math.cos(angles), 2.) + bb*tf.math.pow(tf.math.sin(angles), 2.)\n",
    "    b1 = aa*tf.math.pow(tf.math.sin(angles), 2.) + bb*tf.math.pow(tf.math.cos(angles), 2.)\n",
    "    c1 = 0.5*(aa - bb)*tf.math.sin(2.*angles)\n",
    "\n",
    "    # gbb form\n",
    "    aa = w2**2/12; bb = h2**2/12; angles = theta2\n",
    "    # rotated form\n",
    "    a2 = aa*tf.math.pow(tf.math.cos(angles), 2.) + bb*tf.math.pow(tf.math.sin(angles), 2.)\n",
    "    b2 = aa*tf.math.pow(tf.math.sin(angles), 2.) + bb*tf.math.pow(tf.math.cos(angles), 2.)\n",
    "    c2 = 0.5*(aa - bb)*tf.math.sin(2.*angles)\n",
    "\n",
    "    B1 = 1/4.*( (a1+a2)*(y1-y2)**2. + (b1+b2)*(x1-x2)**2. ) + 1/2.*( (c1+c2)*(x2-x1)*(y1-y2) )\n",
    "    # B1 = B1 / ( (a1+a2)*(b1+b2) - (c1+c2)**2. + EPS )\n",
    "    B1 = B1 / ( (a1+a2)*(b1+b2) - (c1+c2)**2.)\n",
    "\n",
    "    print(\"valor de b1 na loss OG:{}\".format(B1))\n",
    "    sqrt = (a1*b1-c1**2)*(a2*b2-c2**2)\n",
    "    # sqrt = tf.clip_by_value(sqrt, EPS, tf.reduce_max(sqrt)+EPS)\n",
    "    # sqrt = tf.clip_by_value(sqrt, EPS, tf.reduce_max(sqrt))\n",
    "    # B2 = ( (a1+a2)*(b1+b2) - (c1+c2)**2. )/( 4.*tf.math.sqrt(sqrt) + EPS )\n",
    "    B2 = ( (a1+a2)*(b1+b2) - (c1+c2)**2. )/( 4.*tf.math.sqrt(sqrt))\n",
    "    #B2 = tf.clip_by_value(B2, EPS, tf.reduce_max(B2)+EPS)\n",
    "    B2 = 1/2.*tf.math.log(B2)\n",
    "\n",
    "    # print(\"valor de b2 na LOSS OG{}\".format(B2))\n",
    "    \n",
    "    Bd = B1 + B2\n",
    "    Bd = tf.clip_by_value(Bd, EPS, 100.)\n",
    "\n",
    "    l1 = tf.math.sqrt(1 - tf.math.exp(-Bd) + EPS)\n",
    "\n",
    "    if mode=='l2':\n",
    "        l2 = tf.math.pow(l1, 2.)\n",
    "        probiou = - tf.math.log(1. - l2 + EPS)\n",
    "    else:\n",
    "        probiou = l1\n",
    "\n",
    "    return B1"
   ]
  },
  {
   "cell_type": "code",
   "execution_count": 45,
   "id": "50ebc03b",
   "metadata": {},
   "outputs": [],
   "source": [
    "def probiou_lossTF(boxes_pred, target_boxes_, EPS = 1e-3, mode='l2'):\n",
    "\n",
    "    \"\"\"\n",
    "        boxes_pred    -> a matrix [N,5](x,y,w,h,angle - in radians) containing ours predicted box ;in case of HBB angle == 0\n",
    "        target_boxes_  -> a matrix [N,5](x,y,w,h,angle - in radians) containing ours target    box ;in case of HBB angle == 0\n",
    "        EPS     -> threshold to avoid infinite values\n",
    "        mode       -> ('l1' in [0,1] or 'l2' in [0,inf]) metrics according our paper\n",
    "\n",
    "    \"\"\"\n",
    "\n",
    "    x1, y1, w1, h1, theta1 = tf.unstack(boxes_pred, axis=1)\n",
    "    x2, y2, w2, h2, theta2 = tf.unstack(target_boxes_, axis=1)\n",
    "    x1 = tf.reshape(x1, [-1])\n",
    "    y1 = tf.reshape(y1, [-1])\n",
    "    h1 = tf.reshape(h1, [-1])\n",
    "    w1 = tf.reshape(w1, [-1])\n",
    "    theta1 = tf.reshape(theta1, [-1])\n",
    "    x2 = tf.reshape(x1, [-1])\n",
    "    y2 = tf.reshape(y2, [-1])\n",
    "    h2 = tf.reshape(h2, [-1])\n",
    "    w2 = tf.reshape(w2, [-1])\n",
    "    theta2 = tf.reshape(theta2, [-1])\n",
    "\n",
    "    # gbb form\n",
    "    # print(\"O valor de w1 eh: {}\".format(w1))\n",
    "    # print(\"O valor de h1 eh: {}\".format(h1))\n",
    "    # print(\"O valor de theta1 eh: {}\".format(theta1))\n",
    "    aa = w1**2/12; bb = h1**2/12; angles = theta1\n",
    "    # rotated form\n",
    "    a1 = aa*tf.math.pow(tf.math.cos(angles), 2.) + bb*tf.math.pow(tf.math.sin(angles), 2.)\n",
    "    b1 = aa*tf.math.pow(tf.math.sin(angles), 2.) + bb*tf.math.pow(tf.math.cos(angles), 2.)\n",
    "    c1 = 0.5*(aa - bb)*tf.math.sin(2.*angles)\n",
    "\n",
    "    # gbb form\n",
    "    aa = w2**2/12; bb = h2**2/12; angles = theta2\n",
    "    # rotated form\n",
    "    a2 = aa*tf.math.pow(tf.math.cos(angles), 2.) + bb*tf.math.pow(tf.math.sin(angles), 2.)\n",
    "    b2 = aa*tf.math.pow(tf.math.sin(angles), 2.) + bb*tf.math.pow(tf.math.cos(angles), 2.)\n",
    "    c2 = 0.5*(aa - bb)*tf.math.sin(2.*angles)\n",
    "    \n",
    "    # print(tf.rank(a1))\n",
    "    # print(\"a1:{}\".format(a1))\n",
    "    # print(\"c1:{}\".format(c1))\n",
    "    # print(\"b1:{}\".format(b1))\n",
    "\n",
    "    # Formulação matricial\n",
    "    sigma1 = tf.Variable([[a1, c1], [c1, b1]])\n",
    "    \n",
    "    sigma2 = tf.Variable([[a2, c2], [c2, b2]])\n",
    "    \n",
    "    sigma = (1/2)*(sigma1 + sigma2)\n",
    "    \n",
    "    mu1 = tf.Variable([x1, y1])\n",
    "    \n",
    "    mu2 = tf.Variable([x2, y2])\n",
    "    \n",
    "    \n",
    "    print(sigma.shape)\n",
    "    teste = tf.linalg.inv(sigma)\n",
    "    \n",
    "    pt1 = (1/8)*tf.transpose((mu1-mu2))*tf.linalg.inv(sigma)\n",
    "    \n",
    "    print(pt1)\n",
    "    \n",
    "    Bd = b1+b2\n",
    "    \n",
    "    Bd = tf.clip_by_value(Bd, EPS, 100.)\n",
    "    \n",
    "    print(Bd.shape)\n",
    "\n",
    "    l1 = tf.math.sqrt(1 - tf.math.exp(-Bd) + EPS)\n",
    "    \n",
    "    if mode=='l2':\n",
    "        l2 = tf.math.pow(l1, 2.)\n",
    "        probiou = - tf.math.log(1. - l2 + EPS)\n",
    "    else:\n",
    "        probiou = l1\n",
    "        \n",
    "    return b1\n"
   ]
  },
  {
   "cell_type": "code",
   "execution_count": 46,
   "id": "82c1976a",
   "metadata": {},
   "outputs": [
    {
     "name": "stdout",
     "output_type": "stream",
     "text": [
      "(2, 2, 1)\n"
     ]
    },
    {
     "ename": "InvalidArgumentError",
     "evalue": "{{function_node __wrapped__MatrixInverse_device_/job:localhost/replica:0/task:0/device:CPU:0}} Input matrix must be square. [Op:MatrixInverse] name: ",
     "output_type": "error",
     "traceback": [
      "\u001b[1;31m---------------------------------------------------------------------------\u001b[0m",
      "\u001b[1;31mInvalidArgumentError\u001b[0m                      Traceback (most recent call last)",
      "\u001b[1;32m~\\AppData\\Local\\Temp\\ipykernel_14392\\1742175951.py\u001b[0m in \u001b[0;36m<module>\u001b[1;34m\u001b[0m\n\u001b[1;32m----> 1\u001b[1;33m \u001b[0mdigs3\u001b[0m \u001b[1;33m=\u001b[0m \u001b[0mprobiou_lossTF\u001b[0m\u001b[1;33m(\u001b[0m\u001b[0mboxes_predd\u001b[0m\u001b[1;33m,\u001b[0m \u001b[0mtarget_boxess\u001b[0m\u001b[1;33m)\u001b[0m\u001b[1;33m\u001b[0m\u001b[1;33m\u001b[0m\u001b[0m\n\u001b[0m",
      "\u001b[1;32m~\\AppData\\Local\\Temp\\ipykernel_14392\\117677706.py\u001b[0m in \u001b[0;36mprobiou_lossTF\u001b[1;34m(boxes_pred, target_boxes_, EPS, mode)\u001b[0m\n\u001b[0;32m     57\u001b[0m \u001b[1;33m\u001b[0m\u001b[0m\n\u001b[0;32m     58\u001b[0m     \u001b[0mprint\u001b[0m\u001b[1;33m(\u001b[0m\u001b[0msigma\u001b[0m\u001b[1;33m.\u001b[0m\u001b[0mshape\u001b[0m\u001b[1;33m)\u001b[0m\u001b[1;33m\u001b[0m\u001b[1;33m\u001b[0m\u001b[0m\n\u001b[1;32m---> 59\u001b[1;33m     \u001b[0mteste\u001b[0m \u001b[1;33m=\u001b[0m \u001b[0mtf\u001b[0m\u001b[1;33m.\u001b[0m\u001b[0mlinalg\u001b[0m\u001b[1;33m.\u001b[0m\u001b[0minv\u001b[0m\u001b[1;33m(\u001b[0m\u001b[0msigma\u001b[0m\u001b[1;33m)\u001b[0m\u001b[1;33m\u001b[0m\u001b[1;33m\u001b[0m\u001b[0m\n\u001b[0m\u001b[0;32m     60\u001b[0m \u001b[1;33m\u001b[0m\u001b[0m\n\u001b[0;32m     61\u001b[0m     \u001b[0mpt1\u001b[0m \u001b[1;33m=\u001b[0m \u001b[1;33m(\u001b[0m\u001b[1;36m1\u001b[0m\u001b[1;33m/\u001b[0m\u001b[1;36m8\u001b[0m\u001b[1;33m)\u001b[0m\u001b[1;33m*\u001b[0m\u001b[0mtf\u001b[0m\u001b[1;33m.\u001b[0m\u001b[0mtranspose\u001b[0m\u001b[1;33m(\u001b[0m\u001b[1;33m(\u001b[0m\u001b[0mmu1\u001b[0m\u001b[1;33m-\u001b[0m\u001b[0mmu2\u001b[0m\u001b[1;33m)\u001b[0m\u001b[1;33m)\u001b[0m\u001b[1;33m*\u001b[0m\u001b[0mtf\u001b[0m\u001b[1;33m.\u001b[0m\u001b[0mlinalg\u001b[0m\u001b[1;33m.\u001b[0m\u001b[0minv\u001b[0m\u001b[1;33m(\u001b[0m\u001b[0msigma\u001b[0m\u001b[1;33m)\u001b[0m\u001b[1;33m\u001b[0m\u001b[1;33m\u001b[0m\u001b[0m\n",
      "\u001b[1;32m~\\AppData\\Roaming\\Python\\Python39\\site-packages\\tensorflow\\python\\ops\\gen_linalg_ops.py\u001b[0m in \u001b[0;36mmatrix_inverse\u001b[1;34m(input, adjoint, name)\u001b[0m\n\u001b[0;32m   1547\u001b[0m       \u001b[1;32mreturn\u001b[0m \u001b[0m_result\u001b[0m\u001b[1;33m\u001b[0m\u001b[1;33m\u001b[0m\u001b[0m\n\u001b[0;32m   1548\u001b[0m     \u001b[1;32mexcept\u001b[0m \u001b[0m_core\u001b[0m\u001b[1;33m.\u001b[0m\u001b[0m_NotOkStatusException\u001b[0m \u001b[1;32mas\u001b[0m \u001b[0me\u001b[0m\u001b[1;33m:\u001b[0m\u001b[1;33m\u001b[0m\u001b[1;33m\u001b[0m\u001b[0m\n\u001b[1;32m-> 1549\u001b[1;33m       \u001b[0m_ops\u001b[0m\u001b[1;33m.\u001b[0m\u001b[0mraise_from_not_ok_status\u001b[0m\u001b[1;33m(\u001b[0m\u001b[0me\u001b[0m\u001b[1;33m,\u001b[0m \u001b[0mname\u001b[0m\u001b[1;33m)\u001b[0m\u001b[1;33m\u001b[0m\u001b[1;33m\u001b[0m\u001b[0m\n\u001b[0m\u001b[0;32m   1550\u001b[0m     \u001b[1;32mexcept\u001b[0m \u001b[0m_core\u001b[0m\u001b[1;33m.\u001b[0m\u001b[0m_FallbackException\u001b[0m\u001b[1;33m:\u001b[0m\u001b[1;33m\u001b[0m\u001b[1;33m\u001b[0m\u001b[0m\n\u001b[0;32m   1551\u001b[0m       \u001b[1;32mpass\u001b[0m\u001b[1;33m\u001b[0m\u001b[1;33m\u001b[0m\u001b[0m\n",
      "\u001b[1;32m~\\AppData\\Roaming\\Python\\Python39\\site-packages\\tensorflow\\python\\framework\\ops.py\u001b[0m in \u001b[0;36mraise_from_not_ok_status\u001b[1;34m(e, name)\u001b[0m\n\u001b[0;32m   5881\u001b[0m \u001b[1;32mdef\u001b[0m \u001b[0mraise_from_not_ok_status\u001b[0m\u001b[1;33m(\u001b[0m\u001b[0me\u001b[0m\u001b[1;33m,\u001b[0m \u001b[0mname\u001b[0m\u001b[1;33m)\u001b[0m \u001b[1;33m->\u001b[0m \u001b[0mNoReturn\u001b[0m\u001b[1;33m:\u001b[0m\u001b[1;33m\u001b[0m\u001b[1;33m\u001b[0m\u001b[0m\n\u001b[0;32m   5882\u001b[0m   \u001b[0me\u001b[0m\u001b[1;33m.\u001b[0m\u001b[0mmessage\u001b[0m \u001b[1;33m+=\u001b[0m \u001b[1;33m(\u001b[0m\u001b[1;34m\" name: \"\u001b[0m \u001b[1;33m+\u001b[0m \u001b[0mstr\u001b[0m\u001b[1;33m(\u001b[0m\u001b[0mname\u001b[0m \u001b[1;32mif\u001b[0m \u001b[0mname\u001b[0m \u001b[1;32mis\u001b[0m \u001b[1;32mnot\u001b[0m \u001b[1;32mNone\u001b[0m \u001b[1;32melse\u001b[0m \u001b[1;34m\"\"\u001b[0m\u001b[1;33m)\u001b[0m\u001b[1;33m)\u001b[0m\u001b[1;33m\u001b[0m\u001b[1;33m\u001b[0m\u001b[0m\n\u001b[1;32m-> 5883\u001b[1;33m   \u001b[1;32mraise\u001b[0m \u001b[0mcore\u001b[0m\u001b[1;33m.\u001b[0m\u001b[0m_status_to_exception\u001b[0m\u001b[1;33m(\u001b[0m\u001b[0me\u001b[0m\u001b[1;33m)\u001b[0m \u001b[1;32mfrom\u001b[0m \u001b[1;32mNone\u001b[0m  \u001b[1;31m# pylint: disable=protected-access\u001b[0m\u001b[1;33m\u001b[0m\u001b[1;33m\u001b[0m\u001b[0m\n\u001b[0m\u001b[0;32m   5884\u001b[0m \u001b[1;33m\u001b[0m\u001b[0m\n\u001b[0;32m   5885\u001b[0m \u001b[1;33m\u001b[0m\u001b[0m\n",
      "\u001b[1;31mInvalidArgumentError\u001b[0m: {{function_node __wrapped__MatrixInverse_device_/job:localhost/replica:0/task:0/device:CPU:0}} Input matrix must be square. [Op:MatrixInverse] name: "
     ]
    }
   ],
   "source": [
    "digs3 = probiou_lossTF(boxes_predd, target_boxess)"
   ]
  },
  {
   "cell_type": "code",
   "execution_count": 7,
   "id": "41f462fb",
   "metadata": {
    "scrolled": true
   },
   "outputs": [
    {
     "name": "stdout",
     "output_type": "stream",
     "text": [
      "(5, 1, 1)\n",
      "[[[0.23230047]]\n",
      "\n",
      " [[1.62623414]]\n",
      "\n",
      " [[0.19013321]]\n",
      "\n",
      " [[0.02992921]]\n",
      "\n",
      " [[0.12843231]]]\n",
      "(5, 1, 5)\n"
     ]
    }
   ],
   "source": [
    "digs1 = probiou_loss(boxes_predd, target_boxess)"
   ]
  },
  {
   "cell_type": "code",
   "execution_count": 8,
   "id": "20dd124d",
   "metadata": {},
   "outputs": [
    {
     "name": "stdout",
     "output_type": "stream",
     "text": [
      "valor de b1 na loss OG:[[0.34086725]\n",
      " [1.48973503]\n",
      " [0.37616205]\n",
      " [0.5539507 ]\n",
      " [7.46741721]]\n"
     ]
    }
   ],
   "source": [
    "digs2 = probiou_loss_og(boxes_predd, target_boxess)"
   ]
  },
  {
   "cell_type": "code",
   "execution_count": 9,
   "id": "6ad01f47",
   "metadata": {},
   "outputs": [
    {
     "name": "stdout",
     "output_type": "stream",
     "text": [
      "tf.Tensor(\n",
      "[[[-0.10856678]\n",
      "  [-1.25743456]\n",
      "  [-0.14386158]\n",
      "  [-0.32165023]\n",
      "  [-7.23511674]]\n",
      "\n",
      " [[ 1.28536689]\n",
      "  [ 0.13649911]\n",
      "  [ 1.25007209]\n",
      "  [ 1.07228344]\n",
      "  [-5.84118307]]\n",
      "\n",
      " [[-0.15073404]\n",
      "  [-1.29960182]\n",
      "  [-0.18602884]\n",
      "  [-0.36381749]\n",
      "  [-7.277284  ]]\n",
      "\n",
      " [[-0.31093804]\n",
      "  [-1.45980582]\n",
      "  [-0.34623284]\n",
      "  [-0.52402149]\n",
      "  [-7.43748799]]\n",
      "\n",
      " [[-0.21243494]\n",
      "  [-1.36130272]\n",
      "  [-0.24772974]\n",
      "  [-0.42551839]\n",
      "  [-7.3389849 ]]], shape=(5, 5, 1), dtype=float64)\n"
     ]
    }
   ],
   "source": [
    "diferenca = digs1 - digs2\n",
    "print(diferenca)"
   ]
  },
  {
   "cell_type": "code",
   "execution_count": null,
   "id": "ebe86606",
   "metadata": {
    "scrolled": true
   },
   "outputs": [],
   "source": [
    "w = 0.7301464\n",
    "h1 = 0.5703776\n",
    "theta1 = 4.0121395\n",
    "\n",
    "aa = w**2/12; bb = h1**2/12; angles = theta1\n",
    "    # rotated form\n",
    "a1 = aa*tf.math.pow(tf.math.cos(angles), 2.) + bb*tf.math.pow(tf.math.sin(angles), 2.)\n",
    "b1 = aa*tf.math.pow(tf.math.sin(angles), 2.) + bb*tf.math.pow(tf.math.cos(angles), 2.)\n",
    "c1 = 0.5*(aa - bb)*tf.math.sin(2.*angles)\n",
    "\n",
    "# Criando a matriz sigma\n",
    "sigma = tf.stack([[a1, c1],\n",
    "                  [c1, b1]])"
   ]
  },
  {
   "cell_type": "code",
   "execution_count": null,
   "id": "bd2a8c08",
   "metadata": {},
   "outputs": [],
   "source": []
  }
 ],
 "metadata": {
  "kernelspec": {
   "display_name": "Python 3 (ipykernel)",
   "language": "python",
   "name": "python3"
  },
  "language_info": {
   "codemirror_mode": {
    "name": "ipython",
    "version": 3
   },
   "file_extension": ".py",
   "mimetype": "text/x-python",
   "name": "python",
   "nbconvert_exporter": "python",
   "pygments_lexer": "ipython3",
   "version": "3.9.18"
  }
 },
 "nbformat": 4,
 "nbformat_minor": 5
}
