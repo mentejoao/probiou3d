{
 "cells": [
  {
   "cell_type": "code",
   "execution_count": 179,
   "id": "0d4193e0-92ea-4d27-b745-fedc259a1c9a",
   "metadata": {},
   "outputs": [],
   "source": [
    "import tensorflow as tf\n",
    "import numpy as np"
   ]
  },
  {
   "cell_type": "code",
   "execution_count": 180,
   "id": "ef433aea",
   "metadata": {},
   "outputs": [],
   "source": [
    "def generate_test_input(N):\n",
    "    # Gerar boxes preditas e alvo aleatórias\n",
    "    boxes_pred = np.random.rand(N, 5)  # N amostras de boxes preditas\n",
    "    target_boxes = np.random.rand(N, 5)  # N amostras de boxes alvo\n",
    "\n",
    "    # Adicionar valores específicos para o ângulo em radianos\n",
    "    angle_values = np.random.uniform(low=0, high=2*np.pi, size=(N, 1))  # N valores de ângulo em radianos\n",
    "    boxes_pred[:, 4] = angle_values.flatten()  # Adicionar ângulos às boxes preditas\n",
    "    target_boxes[:, 4] = angle_values.flatten()  # Adicionar ângulos às boxes alvo\n",
    "\n",
    "    return boxes_pred, target_boxes"
   ]
  },
  {
   "cell_type": "code",
   "execution_count": 202,
   "id": "bf71d925",
   "metadata": {},
   "outputs": [],
   "source": [
    "def probiou_loss_og(boxes_pred, target_boxes_, EPS = 1e-3, mode='l2'):\n",
    "\n",
    "    \"\"\"\n",
    "        boxes_pred    -> a matrix [N,5](x,y,w,h,angle - in radians) containing ours predicted box ;in case of HBB angle == 0\n",
    "        target_boxes_  -> a matrix [N,5](x,y,w,h,angle - in radians) containing ours target    box ;in case of HBB angle == 0\n",
    "        EPS     -> threshold to avoid infinite values\n",
    "        mode       -> ('l1' in [0,1] or 'l2' in [0,inf]) metrics according our paper\n",
    "\n",
    "    \"\"\"\n",
    "\n",
    "    x1, y1, w1, h1, theta1 = tf.unstack(boxes_pred, axis=1)\n",
    "    x2, y2, w2, h2, theta2 = tf.unstack(target_boxes_, axis=1)\n",
    "    x1 = tf.reshape(x1, [-1, 1])\n",
    "    y1 = tf.reshape(y1, [-1, 1])\n",
    "    h1 = tf.reshape(h1, [-1, 1])\n",
    "    w1 = tf.reshape(w1, [-1, 1])\n",
    "    theta1 = tf.reshape(theta1, [-1, 1])\n",
    "    x2 = tf.reshape(x2, [-1, 1])\n",
    "    y2 = tf.reshape(y2, [-1, 1])\n",
    "    h2 = tf.reshape(h2, [-1, 1])\n",
    "    w2 = tf.reshape(w2, [-1, 1])\n",
    "    theta2 = tf.reshape(theta2, [-1, 1])\n",
    "\n",
    "    # gbb form\n",
    "    aa = w1**2/12; bb = h1**2/12; angles = theta1\n",
    "    # rotated form\n",
    "    a1 = aa*tf.math.pow(tf.math.cos(angles), 2.) + bb*tf.math.pow(tf.math.sin(angles), 2.)\n",
    "    b1 = aa*tf.math.pow(tf.math.sin(angles), 2.) + bb*tf.math.pow(tf.math.cos(angles), 2.)\n",
    "    c1 = 0.5*(aa - bb)*tf.math.sin(2.*angles)\n",
    "\n",
    "    # gbb form\n",
    "    aa = w2**2/12; bb = h2**2/12; angles = theta2\n",
    "    # rotated form\n",
    "    a2 = aa*tf.math.pow(tf.math.cos(angles), 2.) + bb*tf.math.pow(tf.math.sin(angles), 2.)\n",
    "    b2 = aa*tf.math.pow(tf.math.sin(angles), 2.) + bb*tf.math.pow(tf.math.cos(angles), 2.)\n",
    "    c2 = 0.5*(aa - bb)*tf.math.sin(2.*angles)\n",
    "\n",
    "    B1 = 1/4.*( (a1+a2)*(y1-y2)**2. + (b1+b2)*(x1-x2)**2. ) + 1/2.*( (c1+c2)*(x2-x1)*(y1-y2) )\n",
    "    B1 = B1 / ( (a1+a2)*(b1+b2) - (c1+c2)**2. + EPS )\n",
    "\n",
    "\n",
    "    sqrt = (a1*b1-c1**2)*(a2*b2-c2**2)\n",
    "    sqrt = tf.clip_by_value(sqrt, EPS, tf.reduce_max(sqrt)+EPS)\n",
    "    B2 = ( (a1+a2)*(b1+b2) - (c1+c2)**2. )/( 4.*tf.math.sqrt(sqrt) + EPS )\n",
    "    B2 = tf.clip_by_value(B2, EPS, tf.reduce_max(B2)+EPS)\n",
    "    B2 = 1/2.*tf.math.log(B2)\n",
    "\n",
    "    Bd = B1 + B2\n",
    "    Bd = tf.clip_by_value(Bd, EPS, 100.)\n",
    "\n",
    "    l1 = tf.math.sqrt(1 - tf.math.exp(-Bd) + EPS)\n",
    "\n",
    "    if mode=='l2':\n",
    "        l2 = tf.math.pow(l1, 2.)\n",
    "        probiou = - tf.math.log(1. - l2 + EPS)\n",
    "    else:\n",
    "        probiou = l1\n",
    "\n",
    "    return probiou"
   ]
  },
  {
   "cell_type": "code",
   "execution_count": 203,
   "id": "984e2aef-9642-4d6c-9a31-df3ca24c60da",
   "metadata": {},
   "outputs": [],
   "source": [
    "def probiou_loss(boxes_pred, target_boxes_, EPS = 1e-3, mode='l2'):\n",
    "\n",
    "    \"\"\"\n",
    "        boxes_pred    -> a matrix [N,5](x,y,w,h,angle - in radians) containing ours predicted box ;in case of HBB angle == 0\n",
    "        target_boxes_  -> a matrix [N,5](x,y,w,h,angle - in radians) containing ours target    box ;in case of HBB angle == 0\n",
    "        EPS     -> threshold to avoid infinite values\n",
    "        mode       -> ('l1' in [0,1] or 'l2' in [0,inf]) metrics according our paper\n",
    "\n",
    "    \"\"\"\n",
    "\n",
    "    x1, y1, w1, h1, theta1 = tf.unstack(boxes_pred, axis=1)\n",
    "    x2, y2, w2, h2, theta2 = tf.unstack(target_boxes_, axis=1)\n",
    "    x1 = tf.reshape(x1, [-1, 1])\n",
    "    y1 = tf.reshape(y1, [-1, 1])\n",
    "    h1 = tf.reshape(h1, [-1, 1])\n",
    "    w1 = tf.reshape(w1, [-1, 1])\n",
    "    theta1 = tf.reshape(theta1, [-1, 1])\n",
    "    x2 = tf.reshape(x2, [-1, 1])\n",
    "    y2 = tf.reshape(y2, [-1, 1])\n",
    "    h2 = tf.reshape(h2, [-1, 1])\n",
    "    w2 = tf.reshape(w2, [-1, 1])\n",
    "    theta2 = tf.reshape(theta2, [-1, 1])\n",
    "\n",
    "    # gbb form\n",
    "    # print(\"O valor de w1 eh: {}\".format(w1))\n",
    "    # print(\"O valor de h1 eh: {}\".format(h1))\n",
    "    # print(\"O valor de theta1 eh: {}\".format(theta1))\n",
    "    aa = w1**2/12; bb = h1**2/12; angles = theta1\n",
    "    # rotated form\n",
    "    a1 = aa*tf.math.pow(tf.math.cos(angles), 2.) + bb*tf.math.pow(tf.math.sin(angles), 2.)\n",
    "    b1 = aa*tf.math.pow(tf.math.sin(angles), 2.) + bb*tf.math.pow(tf.math.cos(angles), 2.)\n",
    "    c1 = 0.5*(aa - bb)*tf.math.sin(2.*angles)\n",
    "\n",
    "    # gbb form\n",
    "    aa = w2**2/12; bb = h2**2/12; angles = theta2\n",
    "    # rotated form\n",
    "    a2 = aa*tf.math.pow(tf.math.cos(angles), 2.) + bb*tf.math.pow(tf.math.sin(angles), 2.)\n",
    "    b2 = aa*tf.math.pow(tf.math.sin(angles), 2.) + bb*tf.math.pow(tf.math.cos(angles), 2.)\n",
    "    c2 = 0.5*(aa - bb)*tf.math.sin(2.*angles)\n",
    "    \n",
    "    # print(tf.rank(a1))\n",
    "    # print(a1)\n",
    "\n",
    "    # Formulação matricial\n",
    "    sigma = tf.stack([[a1, c1],\n",
    "                  [c1, b1]])\n",
    "\n",
    "    sigma2 = tf.stack([[a2, c2],\n",
    "                  [c2, b2]])\n",
    "\n",
    "    mu1 = tf.stack([[x1], [y1]])\n",
    "\n",
    "    mu2 = tf.stack([[x2], [y2]])\n",
    "    \n",
    "    mu = tf.multiply(tf.add(mu1, mu2), 0.5)\n",
    "    \n",
    "    # print(mu)\n",
    "    \n",
    "    bd = tf.add(tf.multiply(tf.multiply(tf.multiply(tf.transpose(tf.subtract(mu1, mu2)), tf.linalg.inv(mu)),tf.subtract(mu1, mu2)), 1/8),\n",
    "                tf.multiply(tf.math.log(tf.linalg.det(mu)/(tf.sqrt(tf.linalg.det(mu1)*tf.linalg.det(mu2)))), 1/2)) #eq7\n",
    "    \n",
    "    bd = tf.clip_by_value(bd, EPS, 100.)\n",
    "    \n",
    "    print(bd)\n",
    "\n",
    "    l1 = tf.math.sqrt(1 - tf.math.exp(-bd) + EPS)\n",
    "    \n",
    "    if mode=='l2':\n",
    "        l2 = tf.math.pow(l1, 2.)\n",
    "        probiou = - tf.math.log(1. - l2 + EPS)\n",
    "    else:\n",
    "        probiou = l1\n",
    "        \n",
    "    return probiou"
   ]
  },
  {
   "cell_type": "code",
   "execution_count": 204,
   "id": "c1555ea2",
   "metadata": {},
   "outputs": [],
   "source": [
    "boxes_predd, target_boxess = generate_test_input(1)"
   ]
  },
  {
   "cell_type": "code",
   "execution_count": 205,
   "id": "41f462fb",
   "metadata": {
    "scrolled": true
   },
   "outputs": [
    {
     "name": "stdout",
     "output_type": "stream",
     "text": [
      "tf.Tensor(\n",
      "[[[[0.04170192 0.02633809]\n",
      "   [0.13790576 0.12254192]]]\n",
      "\n",
      "\n",
      " [[[0.06963806 0.03524166]\n",
      "   [0.16584189 0.1314455 ]]]], shape=(2, 1, 2, 2), dtype=float64)\n",
      "tf.Tensor(\n",
      "[[[[0.04170192 0.02633809]\n",
      "   [0.13790576 0.12254192]]]\n",
      "\n",
      "\n",
      " [[[0.06963806 0.03524166]\n",
      "   [0.16584189 0.1314455 ]]]], shape=(2, 1, 2, 2), dtype=float64)\n",
      "tf.Tensor([[0.001]], shape=(1, 1), dtype=float64)\n"
     ]
    }
   ],
   "source": [
    "digs1 = probiou_loss(boxes_predd, target_boxess)\n",
    "digs2 = probiou_loss_og(boxes_predd, target_boxess)\n",
    "\n",
    "print(digs1)\n",
    "print(digs2)"
   ]
  },
  {
   "cell_type": "code",
   "execution_count": 206,
   "id": "20dd124d",
   "metadata": {},
   "outputs": [
    {
     "name": "stdout",
     "output_type": "stream",
     "text": [
      "tf.Tensor([[0.001]], shape=(1, 1), dtype=float64)\n"
     ]
    }
   ],
   "source": [
    "digs2 = probiou_loss_og(boxes_predd, target_boxess)\n",
    "print(digs2)"
   ]
  },
  {
   "cell_type": "code",
   "execution_count": 207,
   "id": "ebe86606",
   "metadata": {
    "scrolled": true
   },
   "outputs": [],
   "source": [
    "w = 0.7301464\n",
    "h1 = 0.5703776\n",
    "theta1 = 4.0121395\n",
    "\n",
    "aa = w**2/12; bb = h1**2/12; angles = theta1\n",
    "    # rotated form\n",
    "a1 = aa*tf.math.pow(tf.math.cos(angles), 2.) + bb*tf.math.pow(tf.math.sin(angles), 2.)\n",
    "b1 = aa*tf.math.pow(tf.math.sin(angles), 2.) + bb*tf.math.pow(tf.math.cos(angles), 2.)\n",
    "c1 = 0.5*(aa - bb)*tf.math.sin(2.*angles)\n",
    "\n",
    "# Criando a matriz sigma\n",
    "sigma = tf.stack([[a1, c1],\n",
    "                  [c1, b1]])"
   ]
  },
  {
   "cell_type": "code",
   "execution_count": null,
   "id": "59c2e907",
   "metadata": {},
   "outputs": [],
   "source": []
  }
 ],
 "metadata": {
  "kernelspec": {
   "display_name": "Python 3 (ipykernel)",
   "language": "python",
   "name": "python3"
  },
  "language_info": {
   "codemirror_mode": {
    "name": "ipython",
    "version": 3
   },
   "file_extension": ".py",
   "mimetype": "text/x-python",
   "name": "python",
   "nbconvert_exporter": "python",
   "pygments_lexer": "ipython3",
   "version": "3.9.18"
  }
 },
 "nbformat": 4,
 "nbformat_minor": 5
}
