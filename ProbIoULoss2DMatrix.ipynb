{
 "cells": [
  {
   "cell_type": "code",
   "execution_count": 206,
   "id": "0d4193e0-92ea-4d27-b745-fedc259a1c9a",
   "metadata": {
    "scrolled": false
   },
   "outputs": [],
   "source": [
    "import tensorflow as tf\n",
    "import numpy as np"
   ]
  },
  {
   "cell_type": "code",
   "execution_count": 207,
   "id": "c6066b64",
   "metadata": {},
   "outputs": [],
   "source": [
    "tf.config.experimental_run_functions_eagerly(True)"
   ]
  },
  {
   "cell_type": "code",
   "execution_count": 208,
   "id": "ef433aea",
   "metadata": {},
   "outputs": [],
   "source": [
    "def generate_test_input(N):\n",
    "    # Formato: (x1, y1, w1, h1, theta1)\n",
    "    # Gerar boxes preditas e alvo aleatórias\n",
    "    boxes_pred = np.random.rand(N, 5)*100  # N amostras de boxes preditas\n",
    "   \n",
    "    target_boxes = np.random.rand(N, 5)*100  # N amostras de boxes alvo\n",
    "\n",
    "    # Adicionar valores específicos para o ângulo em radianos\n",
    "    angle_values = np.random.uniform(low=0, high=2*np.pi, size=(N, 1))  # N valores de ângulo em radianos\n",
    "    boxes_pred[:, 4] = angle_values.flatten()  # Substituição - Adicionando ângulos às boxes preditas\n",
    "    target_boxes[:, 4] = angle_values.flatten()  # Substituição - Adicionando ângulos às boxes alvo\n",
    "    \n",
    "    return boxes_pred, target_boxes"
   ]
  },
  {
   "cell_type": "code",
   "execution_count": 209,
   "id": "c1555ea2",
   "metadata": {
    "scrolled": false
   },
   "outputs": [],
   "source": [
    "boxes_predd, target_boxess = generate_test_input(1)"
   ]
  },
  {
   "cell_type": "code",
   "execution_count": 217,
   "id": "bf71d925",
   "metadata": {},
   "outputs": [],
   "source": [
    "def probiou_loss_og(boxes_pred, target_boxes_, EPS = 1e-3, mode='l2'):\n",
    "\n",
    "    \"\"\"\n",
    "        boxes_pred    -> a matrix [N,5](x,y,w,h,angle - in radians) containing ours predicted box ;in case of HBB angle == 0\n",
    "        target_boxes_  -> a matrix [N,5](x,y,w,h,angle - in radians) containing ours target    box ;in case of HBB angle == 0\n",
    "        EPS     -> threshold to avoid infinite values\n",
    "        mode       -> ('l1' in [0,1] or 'l2' in [0,inf]) metrics according our paper\n",
    "\n",
    "    \"\"\"\n",
    "\n",
    "    x1, y1, w1, h1, theta1 = tf.unstack(boxes_pred, axis=1)\n",
    "    x2, y2, w2, h2, theta2 = tf.unstack(target_boxes_, axis=1)\n",
    "    x1 = tf.reshape(x1, [-1, 1])\n",
    "    y1 = tf.reshape(y1, [-1, 1])\n",
    "    h1 = tf.reshape(h1, [-1, 1])\n",
    "    w1 = tf.reshape(w1, [-1, 1])\n",
    "    theta1 = tf.reshape(theta1, [-1, 1])\n",
    "    x2 = tf.reshape(x2, [-1, 1])\n",
    "    y2 = tf.reshape(y2, [-1, 1])\n",
    "    h2 = tf.reshape(h2, [-1, 1])\n",
    "    w2 = tf.reshape(w2, [-1, 1])\n",
    "    theta2 = tf.reshape(theta2, [-1, 1])\n",
    "\n",
    "    # gbb form\n",
    "    aa = w1**2/12; bb = h1**2/12; angles = theta1\n",
    "    # rotated form\n",
    "    a1 = aa*tf.math.pow(tf.math.cos(angles), 2.) + bb*tf.math.pow(tf.math.sin(angles), 2.)\n",
    "    b1 = aa*tf.math.pow(tf.math.sin(angles), 2.) + bb*tf.math.pow(tf.math.cos(angles), 2.)\n",
    "    c1 = 0.5*(aa - bb)*tf.math.sin(2.*angles)\n",
    "\n",
    "    # gbb form\n",
    "    aa = w2**2/12; bb = h2**2/12; angles = theta2\n",
    "    # rotated form\n",
    "    a2 = aa*tf.math.pow(tf.math.cos(angles), 2.) + bb*tf.math.pow(tf.math.sin(angles), 2.)\n",
    "    b2 = aa*tf.math.pow(tf.math.sin(angles), 2.) + bb*tf.math.pow(tf.math.cos(angles), 2.)\n",
    "    c2 = 0.5*(aa - bb)*tf.math.sin(2.*angles)\n",
    "\n",
    "    B1 = 1/4.*( (a1+a2)*(y1-y2)**2. + (b1+b2)*(x1-x2)**2. ) + 1/2.*( (c1+c2)*(x2-x1)*(y1-y2) )\n",
    "    # B1 = B1 / ( (a1+a2)*(b1+b2) - (c1+c2)**2. + EPS )\n",
    "    B1 = B1 / ( (a1+a2)*(b1+b2) - (c1+c2)**2.)\n",
    "\n",
    "    print(\"valor de b1 na loss OG:{}\".format(B1))\n",
    "    sqrt = (a1*b1-c1**2)*(a2*b2-c2**2)\n",
    "    # sqrt = tf.clip_by_value(sqrt, EPS, tf.reduce_max(sqrt)+EPS)\n",
    "    # sqrt = tf.clip_by_value(sqrt, EPS, tf.reduce_max(sqrt))\n",
    "    # B2 = ( (a1+a2)*(b1+b2) - (c1+c2)**2. )/( 4.*tf.math.sqrt(sqrt) + EPS )\n",
    "    B2 = ( (a1+a2)*(b1+b2) - (c1+c2)**2. )/( 4.*tf.math.sqrt(sqrt))\n",
    "    #B2 = tf.clip_by_value(B2, EPS, tf.reduce_max(B2)+EPS)\n",
    "    B2 = 1/2.*tf.math.log(B2)\n",
    "    \n",
    "    #print(B2.shape)\n",
    "\n",
    "    #print(\"valor de b2 na LOSS OG{}\".format(B2))\n",
    "    \n",
    "    Bd = B1 + B2\n",
    "    Bd = tf.clip_by_value(Bd, EPS, 100.)\n",
    "    \n",
    "    print(Bd.shape)\n",
    "\n",
    "    l1 = tf.math.sqrt(1 - tf.math.exp(-Bd) + EPS)\n",
    "\n",
    "    if mode=='l2':\n",
    "        l2 = tf.math.pow(l1, 2.)\n",
    "        probiou = - tf.math.log(1. - l2 + EPS)\n",
    "    else:\n",
    "        probiou = l1\n",
    "\n",
    "    return B1"
   ]
  },
  {
   "cell_type": "code",
   "execution_count": 255,
   "id": "04822738",
   "metadata": {},
   "outputs": [],
   "source": [
    "def probiou_lossTF(boxes_pred, target_boxes_, EPS = 1e-3, mode='l2'):\n",
    "\n",
    "    \"\"\"\n",
    "        boxes_pred    -> a matrix [N,5](x,y,w,h,angle - in radians) containing ours predicted box ;in case of HBB angle == 0\n",
    "        target_boxes_  -> a matrix [N,5](x,y,w,h,angle - in radians) containing ours target    box ;in case of HBB angle == 0\n",
    "        EPS     -> threshold to avoid infinite values\n",
    "        mode       -> ('l1' in [0,1] or 'l2' in [0,inf]) metrics according our paper\n",
    "\n",
    "    \"\"\"\n",
    "\n",
    "    x1, y1, w1, h1, theta1 = tf.unstack(boxes_pred, axis=1)\n",
    "    x2, y2, w2, h2, theta2 = tf.unstack(target_boxes_, axis=1)\n",
    "    x1 = tf.reshape(x1, [-1])\n",
    "    y1 = tf.reshape(y1, [-1])\n",
    "    h1 = tf.reshape(h1, [-1])\n",
    "    w1 = tf.reshape(w1, [-1])\n",
    "    theta1 = tf.reshape(theta1, [-1])\n",
    "    x2 = tf.reshape(x1, [-1])\n",
    "    y2 = tf.reshape(y2, [-1])\n",
    "    h2 = tf.reshape(h2, [-1])\n",
    "    w2 = tf.reshape(w2, [-1])\n",
    "    theta2 = tf.reshape(theta2, [-1])\n",
    "\n",
    "    # gbb form\n",
    "    # print(\"O valor de w1 eh: {}\".format(w1))\n",
    "    # print(\"O valor de h1 eh: {}\".format(h1))\n",
    "    # print(\"O valor de theta1 eh: {}\".format(theta1))\n",
    "    aa = w1**2/12; bb = h1**2/12; angles = theta1\n",
    "    # rotated form\n",
    "    a1 = aa*tf.math.pow(tf.math.cos(angles), 2.) + bb*tf.math.pow(tf.math.sin(angles), 2.)\n",
    "    b1 = aa*tf.math.pow(tf.math.sin(angles), 2.) + bb*tf.math.pow(tf.math.cos(angles), 2.)\n",
    "    c1 = 0.5*(aa - bb)*tf.math.sin(2.*angles)\n",
    "\n",
    "    # gbb form\n",
    "    aa = w2**2/12; bb = h2**2/12; angles = theta2\n",
    "    # rotated form\n",
    "    a2 = aa*tf.math.pow(tf.math.cos(angles), 2.) + bb*tf.math.pow(tf.math.sin(angles), 2.)\n",
    "    b2 = aa*tf.math.pow(tf.math.sin(angles), 2.) + bb*tf.math.pow(tf.math.cos(angles), 2.)\n",
    "    c2 = 0.5*(aa - bb)*tf.math.sin(2.*angles)\n",
    "    \n",
    "    # print(tf.rank(a1))\n",
    "    # print(\"a1:{}\".format(a1))\n",
    "    # print(\"c1:{}\".format(c1))\n",
    "    # print(\"b1:{}\".format(b1))\n",
    "    \n",
    "    # Formulação matricial\n",
    "    sigma1 = tf.transpose(tf.Variable([[a1, c1], [c1, b1]],), perm=[2, 1, 0]) # sigma1 tem dim (n, 2, 2)\n",
    "    \n",
    "    sigma2 = tf.transpose(tf.Variable([[a2, c2], [c2, b2]]), perm=[2, 1, 0])  # sigma2 tem dim (n, 2, 2)\n",
    "    \n",
    "    sigma = (1/2)*(sigma1 + sigma2)\n",
    "    \n",
    "    mu1 = tf.transpose(tf.expand_dims(tf.Variable([x1, y1]), axis=-1), perm=[1, 0, 2]) # mu1 tem dim (n, 2, 1)\n",
    "    \n",
    "    mu2 = tf.transpose(tf.expand_dims(tf.Variable([x2, y2]), axis=-1), perm=[1, 0, 2]) # mu2 tem dim (n, 2, 1)\n",
    "    \n",
    "    b1 = (1/8)*tf.linalg.matmul(tf.transpose((mu1 - mu2), perm=[0, 2, 1]), tf.linalg.inv(sigma))\n",
    "    b1 = tf.squeeze(tf.linalg.matmul(b1, (mu1 - mu2)), axis=2)\n",
    "    \n",
    "    print(b1)\n",
    "    \n",
    "    b2 = (1/2)*tf.math.log(tf.linalg.det(sigma)/tf.math.sqrt(tf.linalg.det(sigma1)*tf.linalg.det(sigma2)))\n",
    "    #print(\"valor de pt2: \", b2)\n",
    "    \n",
    "    Bd = b1+b2\n",
    "    \n",
    "    Bd = tf.clip_by_value(Bd, EPS, 100.)\n",
    "\n",
    "    l1 = tf.math.sqrt(1 - tf.math.exp(-Bd) + EPS)\n",
    "    \n",
    "    if mode=='l2':\n",
    "        l2 = tf.math.pow(l1, 2.)\n",
    "        probiou = - tf.math.log(1. - l2 + EPS)\n",
    "    else:\n",
    "        probiou = l1\n",
    "        \n",
    "    return b1\n"
   ]
  },
  {
   "cell_type": "code",
   "execution_count": 256,
   "id": "91c77b2e",
   "metadata": {
    "scrolled": false
   },
   "outputs": [
    {
     "name": "stdout",
     "output_type": "stream",
     "text": [
      " valor de sigma:  tf.Tensor(\n",
      "[[[1.5 2.5]\n",
      "  [2.5 5. ]]], shape=(1, 2, 2), dtype=float64)\n",
      " valor de sigmainv:  tf.Tensor(\n",
      "[[[ 4.  -2. ]\n",
      "  [-2.   1.2]]], shape=(1, 2, 2), dtype=float64)\n",
      " valor de testedebug2:  tf.Tensor([[[0.6]]], shape=(1, 1, 1), dtype=float64)\n",
      "tf.Tensor(\n",
      "[[[2.]\n",
      "  [2.]]], shape=(1, 2, 1), dtype=float64)\n",
      "tf.Tensor([[0.6]], shape=(1, 1), dtype=float64)\n"
     ]
    }
   ],
   "source": [
    "digs3 = probiou_lossTF(boxes_predd, target_boxess)"
   ]
  },
  {
   "cell_type": "code",
   "execution_count": 220,
   "id": "20dd124d",
   "metadata": {
    "scrolled": true
   },
   "outputs": [
    {
     "name": "stdout",
     "output_type": "stream",
     "text": [
      "valor de b1 na loss OG:[[1.13408398]]\n",
      "(1, 1)\n"
     ]
    }
   ],
   "source": [
    "digs2 = probiou_loss_og(boxes_predd, target_boxess)"
   ]
  },
  {
   "cell_type": "code",
   "execution_count": 258,
   "id": "ebe86606",
   "metadata": {
    "scrolled": true
   },
   "outputs": [
    {
     "name": "stdout",
     "output_type": "stream",
     "text": [
      " valor de sigma:  tf.Tensor(\n",
      "[[[1.5 2.5]\n",
      "  [2.5 5. ]]], shape=(1, 2, 2), dtype=float64)\n",
      " valor de sigmainv:  tf.Tensor(\n",
      "[[[ 4.  -2. ]\n",
      "  [-2.   1.2]]], shape=(1, 2, 2), dtype=float64)\n",
      " valor de testedebug2:  tf.Tensor([[[0.6]]], shape=(1, 1, 1), dtype=float64)\n"
     ]
    }
   ],
   "source": [
    "a1=tf.Variable([1], dtype=tf.float64) # elementos matriz sigma1\n",
    "c1=tf.Variable([2], dtype=tf.float64) # 1 2\n",
    "b1=tf.Variable([6], dtype=tf.float64) # 2 6\n",
    "    \n",
    "a2=tf.Variable([2], dtype=tf.float64) # elementos matriz sigma2\n",
    "c2=tf.Variable([3], dtype=tf.float64) # 2 3\n",
    "b2=tf.Variable([4], dtype=tf.float64) # 3 4\n",
    "    \n",
    "x1=tf.Variable([4], dtype=tf.float64) # 4 elementos matriz mu1\n",
    "y1=tf.Variable([4], dtype=tf.float64) # 4\n",
    "    \n",
    "x2=tf.Variable([2], dtype=tf.float64) # 2 elementos matriz mu2 \n",
    "y2=tf.Variable([2], dtype=tf.float64) # 2\n",
    "\n",
    "sigma1 = tf.transpose(tf.Variable([[a1, c1], [c1, b1]],), perm=[2, 1, 0]) # sigma1 tem dim (n, 2, 2)\n",
    "    \n",
    "sigma2 = tf.transpose(tf.Variable([[a2, c2], [c2, b2]]), perm=[2, 1, 0])  # sigma2 tem dim (n, 2, 2)\n",
    "\n",
    "mu1 = tf.transpose(tf.expand_dims(tf.Variable([x1, y1]), axis=-1), perm=[1, 0, 2]) # mu1 tem dim (n, 2, 1)\n",
    "    \n",
    "mu2 = tf.transpose(tf.expand_dims(tf.Variable([x2, y2]), axis=-1), perm=[1, 0, 2]) # mu2 tem dim (n, 2, 1)\n",
    "    \n",
    "sigma = (1/2)*(sigma1 + sigma2)\n",
    "    \n",
    "sigmainv = tf.linalg.inv(sigma)\n",
    "    \n",
    "print(\" valor de sigma: \", sigma)\n",
    "    \n",
    "print(\" valor de sigmainv: \", sigmainv)\n",
    "\n",
    "testedebug = (1/8)*tf.linalg.matmul(tf.transpose((mu1-mu2), perm=[0, 2, 1]), tf.linalg.inv(sigma))\n",
    "    \n",
    "testedebug2 = tf.linalg.matmul(testedebug, (mu1 - mu2))\n",
    "    \n",
    "print(\" valor de testedebug2: \", testedebug2)"
   ]
  },
  {
   "cell_type": "code",
   "execution_count": null,
   "id": "bd2a8c08",
   "metadata": {},
   "outputs": [],
   "source": []
  }
 ],
 "metadata": {
  "kernelspec": {
   "display_name": "Python 3 (ipykernel)",
   "language": "python",
   "name": "python3"
  },
  "language_info": {
   "codemirror_mode": {
    "name": "ipython",
    "version": 3
   },
   "file_extension": ".py",
   "mimetype": "text/x-python",
   "name": "python",
   "nbconvert_exporter": "python",
   "pygments_lexer": "ipython3",
   "version": "3.9.18"
  }
 },
 "nbformat": 4,
 "nbformat_minor": 5
}
